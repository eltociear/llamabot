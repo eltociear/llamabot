{
 "cells": [
  {
   "cell_type": "code",
   "execution_count": null,
   "metadata": {},
   "outputs": [],
   "source": [
    "%load_ext autoreload\n",
    "%autoreload 2"
   ]
  },
  {
   "cell_type": "code",
   "execution_count": null,
   "metadata": {},
   "outputs": [],
   "source": [
    "import ast\n",
    "import os\n",
    "from pathlib import Path\n",
    "import matplotlib.pyplot as plt\n",
    "import networkx as nx\n",
    "from networkx.drawing.nx_pydot import graphviz_layout"
   ]
  },
  {
   "cell_type": "code",
   "execution_count": null,
   "metadata": {},
   "outputs": [],
   "source": [
    "tmp = Path(\"/tmp\")\n",
    "dummy_package = tmp / \"dummy_package\"\n",
    "dummy_package.mkdir(parents=True, exist_ok=True)\n",
    "\n",
    "init = dummy_package / \"__init__.py\"\n",
    "\n",
    "init_text = \"\"\"from .attrape import hello\n",
    "\n",
    "\n",
    "def aloha():\n",
    "    hello()\n",
    "\"\"\"\n",
    "init.write_text(init_text)\n",
    "\n",
    "attrape_text = \"\"\"import os\n",
    "\n",
    "def hello():\n",
    "    print(\"Hello, World!\")\n",
    "\"\"\"\n",
    "\n",
    "attrape_file = dummy_package / \"attrape.py\"\n",
    "attrape_file.write_text(attrape_text)"
   ]
  },
  {
   "cell_type": "code",
   "execution_count": null,
   "metadata": {},
   "outputs": [],
   "source": [
    "class CodeAnalyzer(ast.NodeVisitor):\n",
    "    def __init__(self):\n",
    "        self.graph = nx.DiGraph()\n",
    "        self.current_function = None\n",
    "        self.current_file = None\n",
    "\n",
    "    def visit_FunctionDef(self, node):\n",
    "        func_name = node.name\n",
    "        self.current_function = func_name\n",
    "        # Add the node with the file attribute\n",
    "        self.graph.add_node(func_name, file=self.current_file)\n",
    "        self.generic_visit(node)\n",
    "        self.current_function = None\n",
    "\n",
    "    def visit_Call(self, node):\n",
    "        if isinstance(node.func, ast.Attribute):\n",
    "            called_func = node.func.attr\n",
    "        elif isinstance(node.func, ast.Name):\n",
    "            called_func = node.func.id\n",
    "        else:\n",
    "            called_func = None\n",
    "\n",
    "        if self.current_function and called_func:\n",
    "            self.graph.add_edge(self.current_function, called_func)\n",
    "\n",
    "        self.generic_visit(node)\n",
    "\n",
    "\n",
    "def analyze_code(base_path):\n",
    "    analyzer = CodeAnalyzer()\n",
    "    for root, dirs, files in os.walk(base_path):\n",
    "        for file in files:\n",
    "            if file.endswith(\".py\"):\n",
    "                analyzer.current_file = file  # Set the current file\n",
    "                with open(os.path.join(root, file), \"r\") as f:\n",
    "                    tree = ast.parse(f.read())\n",
    "                    analyzer.visit(tree)\n",
    "    return analyzer.graph\n",
    "\n",
    "\n",
    "def visualize_graph(graph):\n",
    "    # Use Graphviz for layout\n",
    "    plt.figure(figsize=(20, 20))\n",
    "    pos = graphviz_layout(\n",
    "        graph, prog=\"dot\"\n",
    "    )  # 'dot' is one of the Graphviz layout algorithms\n",
    "\n",
    "    # Draw the nodes and the black labels\n",
    "    nx.draw(graph, pos, with_labels=True, node_color=\"lightblue\", font_weight=\"bold\")\n",
    "\n",
    "    # Offset for red labels\n",
    "    label_pos = {\n",
    "        key: (value[0], value[1] - 20) for key, value in pos.items()\n",
    "    }  # Adjust the offset as needed\n",
    "\n",
    "    # Get the file labels and draw them in red below the nodes\n",
    "    labels = nx.get_node_attributes(graph, \"file\")\n",
    "    nx.draw_networkx_labels(graph, label_pos, labels, font_size=10, font_color=\"red\")\n",
    "\n",
    "    plt.show()\n",
    "\n",
    "\n",
    "# Usage Example\n",
    "# Replace 'path_to_repository' with the actual path of your Python repository\n",
    "graph = analyze_code(tmp / \"dummy_package\")\n",
    "visualize_graph(graph)"
   ]
  },
  {
   "cell_type": "code",
   "execution_count": null,
   "metadata": {},
   "outputs": [],
   "source": [
    "import pandas as pd\n",
    "\n",
    "pd.Series(nx.centrality.degree_centrality(graph)).sort_values()"
   ]
  }
 ],
 "metadata": {
  "kernelspec": {
   "display_name": "llamabot",
   "language": "python",
   "name": "python3"
  },
  "language_info": {
   "codemirror_mode": {
    "name": "ipython",
    "version": 3
   },
   "file_extension": ".py",
   "mimetype": "text/x-python",
   "name": "python",
   "nbconvert_exporter": "python",
   "pygments_lexer": "ipython3",
   "version": "3.11.8"
  }
 },
 "nbformat": 4,
 "nbformat_minor": 2
}
